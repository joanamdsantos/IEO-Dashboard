{
 "cells": [
  {
   "cell_type": "code",
   "execution_count": 2,
   "id": "closing-sweet",
   "metadata": {},
   "outputs": [
    {
     "data": {
      "text/plain": [
       "{'request': {'command': 'series',\n",
       "  'series_id': 'IEO.2019.HIGHMACRO.GDPPPP_AFR_B2010DOL.A'},\n",
       " 'series': [{'series_id': 'IEO.2019.HIGHMACRO.GDPPPP_AFR_B2010DOL.A',\n",
       "   'name': 'GDP (purchasing power parity) : Non-OECD : Africa, High economic growth, IEO2019',\n",
       "   'units': 'bill 2010 $',\n",
       "   'f': 'A',\n",
       "   'description': 'Data for years 2017 and prior may be model results and differ from EIA official statistics',\n",
       "   'start': '2010',\n",
       "   'end': '2050',\n",
       "   'lastHistoricalPeriod': '2017',\n",
       "   'updated': '2020-02-26T02:01:37-0500',\n",
       "   'data': [['2050', 25111.0508],\n",
       "    ['2049', 24064.4102],\n",
       "    ['2048', 23058.6094],\n",
       "    ['2047', 22060.3691],\n",
       "    ['2046', 21077.4805],\n",
       "    ['2045', 20209.5996],\n",
       "    ['2044', 19357.0996],\n",
       "    ['2043', 18574.2598],\n",
       "    ['2042', 17796.6309],\n",
       "    ['2041', 17018.9102],\n",
       "    ['2040', 16270.9902],\n",
       "    ['2039', 15554.9102],\n",
       "    ['2038', 14864.3203],\n",
       "    ['2037', 14207.1504],\n",
       "    ['2036', 13575.9404],\n",
       "    ['2035', 12975.7998],\n",
       "    ['2034', 12405.79],\n",
       "    ['2033', 11854.96],\n",
       "    ['2032', 11328.9199],\n",
       "    ['2031', 10828.79],\n",
       "    ['2030', 10351.9199],\n",
       "    ['2029', 9886.1719],\n",
       "    ['2028', 9442.5156],\n",
       "    ['2027', 9020.582],\n",
       "    ['2026', 8608.7129],\n",
       "    ['2025', 8214.7188],\n",
       "    ['2024', 7829.2549],\n",
       "    ['2023', 7458.6499],\n",
       "    ['2022', 7101.9712],\n",
       "    ['2021', 6762.6909],\n",
       "    ['2020', 6454.269],\n",
       "    ['2019', 6191.498],\n",
       "    ['2018', 5959.2461],\n",
       "    ['2017', 5780.5269],\n",
       "    ['2016', 5621.5708],\n",
       "    ['2015', 5512.915],\n",
       "    ['2014', 5335.894],\n",
       "    ['2013', 5137.9971],\n",
       "    ['2012', 4936.3442],\n",
       "    ['2011', 4767.4829],\n",
       "    ['2010', 4591.2339]]}]}"
      ]
     },
     "execution_count": 2,
     "metadata": {},
     "output_type": "execute_result"
    }
   ],
   "source": [
    "import requests\n",
    "import pandas as pd\n",
    "import scripts.config\n",
    "\n",
    "api_key = scripts.config.EIA_API_KEY\n",
    "\n",
    "url = 'http://api.eia.gov/series/?api_key=' + api_key + '&series_id=IEO.2019.HIGHMACRO.GDPPPP_AFR_B2010DOL.A&rows=1000&out=json'\n",
    "r = requests.get(url)\n",
    "r.json()\n",
    "\n",
    "#pd.DataFrame(r.json()[1])"
   ]
  },
  {
   "cell_type": "code",
   "execution_count": null,
   "id": "grateful-garage",
   "metadata": {},
   "outputs": [],
   "source": []
  }
 ],
 "metadata": {
  "kernelspec": {
   "display_name": "Python 3",
   "language": "python",
   "name": "python3"
  },
  "language_info": {
   "codemirror_mode": {
    "name": "ipython",
    "version": 3
   },
   "file_extension": ".py",
   "mimetype": "text/x-python",
   "name": "python",
   "nbconvert_exporter": "python",
   "pygments_lexer": "ipython3",
   "version": "3.8.5"
  }
 },
 "nbformat": 4,
 "nbformat_minor": 5
}
